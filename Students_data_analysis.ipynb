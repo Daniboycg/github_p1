{
 "cells": [
  {
   "cell_type": "code",
   "execution_count": 2,
   "metadata": {},
   "outputs": [],
   "source": [
    "import pandas as pd\n",
    "import numpy as np \n",
    "import matplotlib.pyplot as plt \n",
    "import seaborn as sns"
   ]
  },
  {
   "attachments": {},
   "cell_type": "markdown",
   "metadata": {},
   "source": [
    "At this point, I already imported the libraries that I will use. What I want to do, is to put in practice al the things I've learned the last months and upload it on Github with all the changes, commits and so. This will be my first commit"
   ]
  },
    {
   "attachments": {},
   "cell_type": "markdown",
   "metadata": {},
   "source": [
    "I'm trying to create a new markdown cell from the code in github "
   ]
  },
  {
   "cell_type": "code",
   "execution_count": null,
   "metadata": {},
   "outputs": [],
   "source": []
  }
 ],
 "metadata": {
  "kernelspec": {
   "display_name": "ML",
   "language": "python",
   "name": "python3"
  },
  "language_info": {
   "codemirror_mode": {
    "name": "ipython",
    "version": 3
   },
   "file_extension": ".py",
   "mimetype": "text/x-python",
   "name": "python",
   "nbconvert_exporter": "python",
   "pygments_lexer": "ipython3",
   "version": "3.11.0"
  },
  "orig_nbformat": 4,
  "vscode": {
   "interpreter": {
    "hash": "013996f4590695308fe873e73ccfad17b6da13415dc74e9458db8bd8258c00bb"
   }
  }
 },
 "nbformat": 4,
 "nbformat_minor": 2
}
